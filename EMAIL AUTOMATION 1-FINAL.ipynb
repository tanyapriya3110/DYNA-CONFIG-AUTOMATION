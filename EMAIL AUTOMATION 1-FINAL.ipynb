{
 "cells": [
  {
   "cell_type": "markdown",
   "id": "69b2a994",
   "metadata": {},
   "source": [
    "### LIBRARIES"
   ]
  },
  {
   "cell_type": "code",
   "execution_count": 1,
   "id": "4e583575",
   "metadata": {},
   "outputs": [],
   "source": [
    "from tkinter import *\n",
    "from tkinter import ttk\n",
    "from tkinter import filedialog\n",
    "from openpyxl import load_workbook\n",
    "from openpyxl.utils import get_column_letter, range_boundaries\n",
    "#from copy import deepcopy\n",
    "import pandas as pd\n",
    "import win32com.client"
   ]
  },
  {
   "cell_type": "markdown",
   "id": "16faba1b",
   "metadata": {},
   "source": [
    "### BROWSING FOR PARENT FILE"
   ]
  },
  {
   "cell_type": "code",
   "execution_count": 2,
   "id": "07237916",
   "metadata": {},
   "outputs": [
    {
     "name": "stdout",
     "output_type": "stream",
     "text": [
      "C:/Users/DELL/Downloads/testdataset.xlsx\n"
     ]
    }
   ],
   "source": [
    "def browse():\n",
    "    global filename\n",
    "    filename = filedialog.askopenfilename(initialdir = '/',\n",
    "                                          title = 'Select a file',\n",
    "                                          filetypes = (('Excel workbooks', '*.xlsx*'),\n",
    "                                                      ('CSV files', '*.csv*'))\n",
    "                                         )\n",
    "    print(filename)\n",
    "\n",
    "def close():\n",
    "    window.destroy()\n",
    "\n",
    "window = Tk()\n",
    "window.title('File explorer')\n",
    "window.geometry('300x200')\n",
    "Label(window, text = 'Browse for the parent file').pack()\n",
    "Button(window, text = 'Browse', command = browse).pack(pady = 10)\n",
    "Button(window, text = 'Exit', command = close).pack(pady = 10)\n",
    "window.attributes('-topmost', 1)\n",
    "window.update()\n",
    "window.attributes('-topmost', 0)\n",
    "window.mainloop()"
   ]
  },
  {
   "cell_type": "markdown",
   "id": "0d92896c",
   "metadata": {},
   "source": [
    "### CREATING BRANCHES"
   ]
  },
  {
   "cell_type": "markdown",
   "id": "d6d55254",
   "metadata": {},
   "source": [
    "OBTAINING SHEETNAMES"
   ]
  },
  {
   "cell_type": "code",
   "execution_count": 3,
   "id": "d4a34f7a",
   "metadata": {},
   "outputs": [],
   "source": [
    "wb = load_workbook(filename)\n",
    "sh_names = wb.sheetnames"
   ]
  },
  {
   "cell_type": "markdown",
   "id": "0b613045",
   "metadata": {},
   "source": [
    "TRANSFORM SHEET"
   ]
  },
  {
   "cell_type": "code",
   "execution_count": 4,
   "id": "8b37feff",
   "metadata": {},
   "outputs": [],
   "source": [
    "def transform_sht(sheet):\n",
    "    wb = load_workbook(filename)\n",
    "    #ws = deepcopy(wb[sheet])\n",
    "    ws = wb.copy_worksheet(wb[sheet])\n",
    "    for group in sorted(ws.merged_cells.ranges):\n",
    "        min_col, min_row, max_col, max_row = range_boundaries(str(group))\n",
    "        ws.unmerge_cells(str(group))\n",
    "        top_left_cell_value = ws.cell(row = min_row, column = min_col).value\n",
    "        for row in ws.iter_rows(min_col = min_col, min_row = min_row, max_col = max_col, max_row = max_row):\n",
    "            for cell in row:\n",
    "                cell.value = top_left_cell_value    \n",
    "    tbl = pd.read_excel(filename, sheet_name = sheet, skiprows = 3, header = None)\n",
    "    cols = []\n",
    "    for i in range(1, len(tbl.columns) + 1):\n",
    "        col_letter = get_column_letter(i)\n",
    "        if ws[col_letter + str(2)].value != ws[col_letter + str(3)].value:\n",
    "            cols.append(str(ws[col_letter + str(2)].value or '') + '_' + str(ws[col_letter + str(3)].value or ''))\n",
    "        else:\n",
    "            cols.append(ws[col_letter + str(3)].value)\n",
    "    tbl.columns = cols\n",
    "    str_cols = list(tbl.dtypes[tbl.dtypes == 'object'].index)\n",
    "    date_cols = list(tbl.dtypes[tbl.dtypes == 'datetime64[ns]'].index)\n",
    "    for col in date_cols:\n",
    "        tbl[col] = tbl[col].dt.strftime('%d-%m-%Y')\n",
    "    uniq = {}\n",
    "    for col in tbl.columns:\n",
    "        uniq[col] = tbl[col].unique()\n",
    "    return tbl, str_cols, uniq"
   ]
  },
  {
   "cell_type": "markdown",
   "id": "e015ae2c",
   "metadata": {},
   "source": [
    "FETCHING CONTACTS"
   ]
  },
  {
   "cell_type": "code",
   "execution_count": 5,
   "id": "cf14cda2",
   "metadata": {},
   "outputs": [],
   "source": [
    "def get_contacts(filename):\n",
    "    contacts = []\n",
    "    with open(filename, 'r') as f:\n",
    "        for cont in f:\n",
    "            contacts.append(cont.strip())\n",
    "    return contacts"
   ]
  },
  {
   "cell_type": "markdown",
   "id": "7cff0622",
   "metadata": {},
   "source": [
    "ADDING CONTACTS"
   ]
  },
  {
   "cell_type": "code",
   "execution_count": 6,
   "id": "c08e552f",
   "metadata": {},
   "outputs": [],
   "source": [
    "def add_contact(filename, contact):\n",
    "    with open(filename, 'a') as f:\n",
    "        f.write(contact + '\\n')"
   ]
  },
  {
   "cell_type": "markdown",
   "id": "3857ed66",
   "metadata": {},
   "source": [
    "OBTAINING FILTERS"
   ]
  },
  {
   "cell_type": "code",
   "execution_count": 7,
   "id": "38e7e980",
   "metadata": {},
   "outputs": [
    {
     "name": "stdout",
     "output_type": "stream",
     "text": [
      "()\n",
      "('selected',)\n",
      "DB2\n",
      "('focus', 'selected')\n",
      "DB3\n",
      "()\n",
      "('focus', 'selected')\n",
      "VA\n",
      "()\n",
      "()\n",
      "('selected',)\n",
      "MANGO\n",
      "()\n",
      "('focus', 'selected')\n",
      "APPLE\n",
      "()\n"
     ]
    }
   ],
   "source": [
    "frames = []\n",
    "filters = {} #{frame: [fr1, fr2, ...]}\n",
    "sheets = {} #{frame: sheet}\n",
    "tables = {} #{frame: table} \n",
    "uniqs = {} #{frame: uniq}\n",
    "sel_values = {} #{fr1: [val1, val2, ...]}\n",
    "cols = {} #{frame: [col1, col2, ...]}\n",
    "opts = {} #{fr1: col} chosen columns\n",
    "tos = {} #{frame: [to1, to2, ...]}\n",
    "ccs = {} #{frame: [cc1, cc2, ...]}\n",
    "contacts = get_contacts('contacts.txt') + ['Other']\n",
    "#each fr corresponds to one column of the dataframe\n",
    "\n",
    "def ui_filter(frame):\n",
    "    filter_num = len(filters[frame]) + 1\n",
    "    fr = Frame(frame)\n",
    "    fr.pack()\n",
    "    Label(fr, text = 'Filter ' + str(filter_num)).pack()\n",
    "    v_opt = StringVar(fr, 'Select a column', str(fr) + '_col')\n",
    "    OptionMenu(fr, v_opt, *cols[frame]).pack(pady = 10)\n",
    "    Button(fr, text = 'Select this column', command = lambda: select_col(v_opt.get(), fr)).pack()\n",
    "    Button(frame, text = 'Add filter', name = 'add_filter_button', command = lambda: add_filter(frame)).pack(pady = 10)\n",
    "    if 'to' in frame.children:\n",
    "        frame.nametowidget('to').pack()\n",
    "        frame.nametowidget('cc').pack()\n",
    "    filters[frame].append(fr)\n",
    "    \n",
    "def select_sheet(fr_sh, sheet):\n",
    "    #global tbl, str_cols, uniq\n",
    "    frame = fr_sh.master\n",
    "    fr_sh.destroy()\n",
    "    sheets[frame] = sheet\n",
    "    tbl, str_cols, uniq = transform_sht(sheet)\n",
    "    tables[frame] = tbl\n",
    "    cols[frame] = str_cols\n",
    "    uniqs[frame] = uniq\n",
    "    filters[frame] = [] \n",
    "    ui_filter(frame)\n",
    "    # email list\n",
    "    tos[frame] = []\n",
    "    ccs[frame] = []\n",
    "    ui_to_cc(frame, 'to')\n",
    "    ui_to_cc(frame, 'cc')\n",
    "    if len(frames):\n",
    "        Button(frame, text = 'Remove book', command = lambda: remove(frame)).pack(pady = 10)\n",
    "    Button(window, text = 'Add book', name = 'add_button', command = add).pack(pady = 10)\n",
    "    frames.append(frame)\n",
    "        \n",
    "def select_col(col, fr):\n",
    "    #global uniq\n",
    "    uniq = uniqs[fr.master]\n",
    "    opts[fr] = fr.getvar(str(fr) + '_col')\n",
    "    Label(fr, text = 'Select the desired value(s)').pack(pady = 10)\n",
    "    for val in uniq[col]:\n",
    "        chk = ttk.Checkbutton(fr, text = val)\n",
    "        chk.state(['!alternate'])\n",
    "        chk.state(['!selected'])\n",
    "        chk.pack()\n",
    "    Button(fr, text = 'Apply filter', command = lambda: apply_filter(col, fr)).pack(pady = 10)\n",
    "\n",
    "def apply_filter(col, fr):\n",
    "    #global uniq\n",
    "    uniq = uniqs[fr.master]\n",
    "    sel_values[fr] = []\n",
    "    for i, val in enumerate(uniq[col]):\n",
    "        if not i:\n",
    "            st = fr.nametowidget('!checkbutton').state()\n",
    "        else:\n",
    "            st = fr.nametowidget('!checkbutton' + str(i + 1)).state()\n",
    "        print(st)\n",
    "        if len(st) and (st[0] == 'selected' or st[1] == 'selected'):\n",
    "            print(val)\n",
    "            sel_values[fr].append(val)\n",
    "    if len(filters[fr.master]) > 1:\n",
    "        Button(fr, text = 'Remove filter', command = lambda: remove_filter(col, fr)).pack(pady = 10)\n",
    "    if col in cols[fr.master]:\n",
    "        cols[fr.master].remove(col)\n",
    "    \n",
    "def remove_filter(col, fr):\n",
    "    filters[fr.master].remove(fr)\n",
    "    for i, f in enumerate(filters[fr.master]):\n",
    "        f.nametowidget('!label').configure(text = 'Filter ' + str(i + 1))\n",
    "    cols[fr.master].append(col)\n",
    "    fr.destroy()\n",
    "    \n",
    "def add_filter(frame):\n",
    "    frame.nametowidget('add_filter_button').destroy()\n",
    "    frame.nametowidget('to').pack_forget()\n",
    "    frame.nametowidget('cc').pack_forget()\n",
    "    ui_filter(frame)\n",
    "\n",
    "def ui_to_cc(frame, to_cc):\n",
    "    if to_cc == 'to':\n",
    "        text = 'To:' \n",
    "    else:\n",
    "        text = 'Cc:'\n",
    "    frame_to_cc = Frame(frame, name = to_cc)\n",
    "    frame_to_cc.pack()\n",
    "    Label(frame_to_cc, text = text).pack(pady = 10)\n",
    "    v_to_cc = StringVar(frame, 'Select a contact')\n",
    "    OptionMenu(frame_to_cc, v_to_cc, *contacts).pack()\n",
    "    Button(frame_to_cc, text = 'Add recipient', command = lambda: add_to_cc(v_to_cc, frame_to_cc, to_cc), name = to_cc + '_button').pack(pady = 10)    \n",
    "    \n",
    "def ui():\n",
    "    book_num = len(frames) + 1\n",
    "    frame = Frame(window)\n",
    "    frame.pack()\n",
    "    Label(frame, text = 'Book ' + str(book_num)).pack(pady = 10)\n",
    "    # selecting sheet\n",
    "    v_sh = StringVar(frame, 'Select a sheet')\n",
    "    fr_sh = Frame(frame)\n",
    "    fr_sh.pack()\n",
    "    OptionMenu(fr_sh, v_sh, *sh_names).pack(pady = 10)\n",
    "    Button(fr_sh, text = 'Select sheet', command = lambda: select_sheet(fr_sh, v_sh.get())).pack()\n",
    "    \n",
    "def add_to_cc(v_to_cc, frame_to_cc, to_cc):\n",
    "    v_to_val = v_to_cc.get()\n",
    "    if v_to_val == 'Other':\n",
    "        frame_to_cc.nametowidget('!optionmenu').destroy()\n",
    "        frame_to_cc.nametowidget(to_cc + '_button').destroy()\n",
    "        v_to_cc.set('Enter the contact email')\n",
    "        Entry(frame_to_cc, textvariable = v_to_cc).pack()\n",
    "        Button(frame_to_cc, text = 'Add recipient', command = lambda: add_to_cc(v_to_cc, frame_to_cc, to_cc), name = to_cc + '_button').pack(pady = 10)\n",
    "    elif to_cc == 'to':\n",
    "        tos[frame_to_cc.master].append(v_to_val)\n",
    "        if v_to_val not in contacts:\n",
    "            add_contact('contacts.txt', v_to_val)\n",
    "            contacts.append(v_to_val)\n",
    "    else:\n",
    "        ccs[frame_to_cc.master].append(v_to_val)\n",
    "        if v_to_val not in contacts:\n",
    "            add_contact('contacts.txt', v_to_val)\n",
    "            contacts.append(v_to_val)\n",
    "\n",
    "def add():\n",
    "    window.nametowidget('add_button').destroy()\n",
    "    ui()\n",
    "    \n",
    "def remove(frame):\n",
    "    frames.remove(frame)\n",
    "    frame.destroy()\n",
    "    for i, fr in enumerate(frames):\n",
    "        fname = str(fr)\n",
    "        fr.nametowidget('!label').configure(text = 'Book ' + str(i + 1))       \n",
    "        \n",
    "def adjust_scrollregion(event):\n",
    "    canv.configure(scrollregion = canv.bbox('all'))\n",
    "    \n",
    "root = Tk()\n",
    "root.title('Filters')\n",
    "canv = Canvas(root)\n",
    "window = Frame(canv)\n",
    "scbar = Scrollbar(root)\n",
    "canv.config(yscrollcommand = scbar.set)\n",
    "scbar.config(orient = VERTICAL, command = canv.yview)\n",
    "scbar.pack(side = RIGHT, fill = Y)\n",
    "canv.pack(fill = BOTH, side = LEFT, expand = TRUE)\n",
    "canv.create_window(200, 0, window = window, anchor = 'c')\n",
    "ui()\n",
    "window.bind('<Configure>', adjust_scrollregion)\n",
    "root.attributes('-topmost', 1)\n",
    "root.update()\n",
    "root.attributes('-topmost', 0)\n",
    "root.mainloop()"
   ]
  },
  {
   "cell_type": "markdown",
   "id": "5dc5ccb7",
   "metadata": {},
   "source": [
    "HANDLING MERGED CELLS DURING ROW DELETION"
   ]
  },
  {
   "cell_type": "code",
   "execution_count": 8,
   "id": "b25b0ebc",
   "metadata": {},
   "outputs": [],
   "source": [
    "def delete_row_with_merged_ranges(sheet, idx):\n",
    "    sheet.delete_rows(idx)\n",
    "    for mcr in sheet.merged_cells:\n",
    "        if idx < mcr.min_row:\n",
    "            mcr.shift(row_shift =- 1)\n",
    "        elif idx < mcr.max_row:\n",
    "            mcr.shrink(bottom = 1)"
   ]
  },
  {
   "cell_type": "markdown",
   "id": "80a31b57",
   "metadata": {},
   "source": [
    "APPLYING THE FILTERS"
   ]
  },
  {
   "cell_type": "code",
   "execution_count": 9,
   "id": "e72dbe89",
   "metadata": {},
   "outputs": [
    {
     "name": "stdout",
     "output_type": "stream",
     "text": [
      "[['VA', 'DB3', 21, 'APPLE', 'MOK', 'FJDSNFJK', nan, '11-06-2023', 'KDNVLKD', '11-06-2023'], ['VA', 'DB2', 19, 'BERRY', 'BOK', 'DJNFJKEN', nan, '14-06-2023', 'KJDNKJDS', '14-06-2023']]\n",
      "[['VA', 'DB1', 15, 'MANGO', 'TOK', 'FDSJFSDJFK', 'DJFNKJDSNF', '05-06-2023', 'NVKSDNVKSD', '05-06-2023'], ['TX', 'DB2', 15, 'MANGO', 'TOK', 'JVNJSDNV', 'DJNJKDNDJC', '06-06-2023', 'NVKD', '06-06-2023'], ['AZ', 'DB3', 15, 'MANGO', 'TOK', 'JDNJKDN', 'CV SD VKJ', '07-06-2023', 'M VDK', '07-06-2023'], ['AZ', 'DB2', 21, 'APPLE', 'MOK', 'DFJKDNF', 'DNKJDNV', '10-06-2023', 'NSVKJNSDJVND', '10-06-2023'], ['VA', 'DB3', 21, 'APPLE', 'MOK', 'FJDSNFJK', 'JNVKJDSN', '11-06-2023', 'KDNVLKD', '11-06-2023'], ['AZ', 'DB1', 21, 'APPLE', 'MOK', 'FJDSNFJK', 'NKJDSKNCD', '13-06-2023', 'VDKSDK', '13-06-2023']]\n"
     ]
    }
   ],
   "source": [
    "for i, book in enumerate(frames):\n",
    "    tbl = tables[book]\n",
    "    df_filter = tbl.copy()\n",
    "    wb = load_workbook(filename)\n",
    "    for sheet in sh_names:\n",
    "        if sheet != sheets[book]:\n",
    "            del wb[sheet]\n",
    "    ws = wb[sheets[book]]\n",
    "    ws.delete_rows(4, len(df_filter))\n",
    "    delete_row_with_merged_ranges(ws, 1)\n",
    "    for fr in filters[book]:\n",
    "        filter_col = opts[fr]\n",
    "        val_list = sel_values[fr]\n",
    "        df_filter = df_filter.loc[df_filter[filter_col].isin(val_list)]\n",
    "    rows = df_filter.values.tolist()\n",
    "    print(rows)\n",
    "    for row in rows:\n",
    "        ws.append(row)\n",
    "    wb.save(sheets[book] + '.xlsx')"
   ]
  },
  {
   "cell_type": "markdown",
   "id": "6f0c504f",
   "metadata": {},
   "source": [
    "SENDING MAILS"
   ]
  },
  {
   "cell_type": "code",
   "execution_count": 10,
   "id": "0870108a",
   "metadata": {},
   "outputs": [
    {
     "ename": "com_error",
     "evalue": "(-2147221005, 'Invalid class string', None, None)",
     "output_type": "error",
     "traceback": [
      "\u001b[1;31m---------------------------------------------------------------------------\u001b[0m",
      "\u001b[1;31mcom_error\u001b[0m                                 Traceback (most recent call last)",
      "File \u001b[1;32mD:\\Anaconda\\envs\\email_auto_1\\lib\\site-packages\\win32com\\client\\dynamic.py:86\u001b[0m, in \u001b[0;36m_GetGoodDispatch\u001b[1;34m(IDispatch, clsctx)\u001b[0m\n\u001b[0;32m     85\u001b[0m \u001b[38;5;28;01mtry\u001b[39;00m:\n\u001b[1;32m---> 86\u001b[0m     IDispatch \u001b[38;5;241m=\u001b[39m \u001b[43mpythoncom\u001b[49m\u001b[38;5;241;43m.\u001b[39;49m\u001b[43mconnect\u001b[49m\u001b[43m(\u001b[49m\u001b[43mIDispatch\u001b[49m\u001b[43m)\u001b[49m\n\u001b[0;32m     87\u001b[0m \u001b[38;5;28;01mexcept\u001b[39;00m pythoncom\u001b[38;5;241m.\u001b[39mole_error:\n",
      "\u001b[1;31mcom_error\u001b[0m: (-2147221005, 'Invalid class string', None, None)",
      "\nDuring handling of the above exception, another exception occurred:\n",
      "\u001b[1;31mcom_error\u001b[0m                                 Traceback (most recent call last)",
      "Cell \u001b[1;32mIn[10], line 2\u001b[0m\n\u001b[0;32m      1\u001b[0m \u001b[38;5;28;01mfor\u001b[39;00m i, frame \u001b[38;5;129;01min\u001b[39;00m \u001b[38;5;28menumerate\u001b[39m(frames):\n\u001b[1;32m----> 2\u001b[0m     ol \u001b[38;5;241m=\u001b[39m \u001b[43mwin32com\u001b[49m\u001b[38;5;241;43m.\u001b[39;49m\u001b[43mclient\u001b[49m\u001b[38;5;241;43m.\u001b[39;49m\u001b[43mDispatch\u001b[49m\u001b[43m(\u001b[49m\u001b[38;5;124;43m\"\u001b[39;49m\u001b[38;5;124;43moutlook.application\u001b[39;49m\u001b[38;5;124;43m\"\u001b[39;49m\u001b[43m)\u001b[49m \u001b[38;5;66;03m#outlook application should be installed prior\u001b[39;00m\n\u001b[0;32m      3\u001b[0m     olmailitem \u001b[38;5;241m=\u001b[39m \u001b[38;5;241m0x0\u001b[39m \u001b[38;5;66;03m#size of the new email\u001b[39;00m\n\u001b[0;32m      4\u001b[0m     newmail \u001b[38;5;241m=\u001b[39m ol\u001b[38;5;241m.\u001b[39mCreateItem(olmailitem)\n",
      "File \u001b[1;32mD:\\Anaconda\\envs\\email_auto_1\\lib\\site-packages\\win32com\\client\\__init__.py:117\u001b[0m, in \u001b[0;36mDispatch\u001b[1;34m(dispatch, userName, resultCLSID, typeinfo, UnicodeToString, clsctx)\u001b[0m\n\u001b[0;32m    115\u001b[0m \u001b[38;5;250m\u001b[39m\u001b[38;5;124;03m\"\"\"Creates a Dispatch based COM object.\"\"\"\u001b[39;00m\n\u001b[0;32m    116\u001b[0m \u001b[38;5;28;01massert\u001b[39;00m UnicodeToString \u001b[38;5;129;01mis\u001b[39;00m \u001b[38;5;28;01mNone\u001b[39;00m, \u001b[38;5;124m\"\u001b[39m\u001b[38;5;124mthis is deprecated and will go away\u001b[39m\u001b[38;5;124m\"\u001b[39m\n\u001b[1;32m--> 117\u001b[0m dispatch, userName \u001b[38;5;241m=\u001b[39m \u001b[43mdynamic\u001b[49m\u001b[38;5;241;43m.\u001b[39;49m\u001b[43m_GetGoodDispatchAndUserName\u001b[49m\u001b[43m(\u001b[49m\u001b[43mdispatch\u001b[49m\u001b[43m,\u001b[49m\u001b[43m \u001b[49m\u001b[43muserName\u001b[49m\u001b[43m,\u001b[49m\u001b[43m \u001b[49m\u001b[43mclsctx\u001b[49m\u001b[43m)\u001b[49m\n\u001b[0;32m    118\u001b[0m \u001b[38;5;28;01mreturn\u001b[39;00m __WrapDispatch(dispatch, userName, resultCLSID, typeinfo, clsctx\u001b[38;5;241m=\u001b[39mclsctx)\n",
      "File \u001b[1;32mD:\\Anaconda\\envs\\email_auto_1\\lib\\site-packages\\win32com\\client\\dynamic.py:106\u001b[0m, in \u001b[0;36m_GetGoodDispatchAndUserName\u001b[1;34m(IDispatch, userName, clsctx)\u001b[0m\n\u001b[0;32m    103\u001b[0m     \u001b[38;5;66;03m## ??? else userName remains None ???\u001b[39;00m\n\u001b[0;32m    104\u001b[0m \u001b[38;5;28;01melse\u001b[39;00m:\n\u001b[0;32m    105\u001b[0m     userName \u001b[38;5;241m=\u001b[39m \u001b[38;5;28mstr\u001b[39m(userName)\n\u001b[1;32m--> 106\u001b[0m \u001b[38;5;28;01mreturn\u001b[39;00m (\u001b[43m_GetGoodDispatch\u001b[49m\u001b[43m(\u001b[49m\u001b[43mIDispatch\u001b[49m\u001b[43m,\u001b[49m\u001b[43m \u001b[49m\u001b[43mclsctx\u001b[49m\u001b[43m)\u001b[49m, userName)\n",
      "File \u001b[1;32mD:\\Anaconda\\envs\\email_auto_1\\lib\\site-packages\\win32com\\client\\dynamic.py:88\u001b[0m, in \u001b[0;36m_GetGoodDispatch\u001b[1;34m(IDispatch, clsctx)\u001b[0m\n\u001b[0;32m     86\u001b[0m         IDispatch \u001b[38;5;241m=\u001b[39m pythoncom\u001b[38;5;241m.\u001b[39mconnect(IDispatch)\n\u001b[0;32m     87\u001b[0m     \u001b[38;5;28;01mexcept\u001b[39;00m pythoncom\u001b[38;5;241m.\u001b[39mole_error:\n\u001b[1;32m---> 88\u001b[0m         IDispatch \u001b[38;5;241m=\u001b[39m \u001b[43mpythoncom\u001b[49m\u001b[38;5;241;43m.\u001b[39;49m\u001b[43mCoCreateInstance\u001b[49m\u001b[43m(\u001b[49m\n\u001b[0;32m     89\u001b[0m \u001b[43m            \u001b[49m\u001b[43mIDispatch\u001b[49m\u001b[43m,\u001b[49m\u001b[43m \u001b[49m\u001b[38;5;28;43;01mNone\u001b[39;49;00m\u001b[43m,\u001b[49m\u001b[43m \u001b[49m\u001b[43mclsctx\u001b[49m\u001b[43m,\u001b[49m\u001b[43m \u001b[49m\u001b[43mpythoncom\u001b[49m\u001b[38;5;241;43m.\u001b[39;49m\u001b[43mIID_IDispatch\u001b[49m\n\u001b[0;32m     90\u001b[0m \u001b[43m        \u001b[49m\u001b[43m)\u001b[49m\n\u001b[0;32m     91\u001b[0m \u001b[38;5;28;01melse\u001b[39;00m:\n\u001b[0;32m     92\u001b[0m     \u001b[38;5;66;03m# may already be a wrapped class.\u001b[39;00m\n\u001b[0;32m     93\u001b[0m     IDispatch \u001b[38;5;241m=\u001b[39m \u001b[38;5;28mgetattr\u001b[39m(IDispatch, \u001b[38;5;124m\"\u001b[39m\u001b[38;5;124m_oleobj_\u001b[39m\u001b[38;5;124m\"\u001b[39m, IDispatch)\n",
      "\u001b[1;31mcom_error\u001b[0m: (-2147221005, 'Invalid class string', None, None)"
     ]
    }
   ],
   "source": [
    "for i, frame in enumerate(frames):\n",
    "    ol = win32com.client.Dispatch(\"outlook.application\") #outlook application should be installed prior\n",
    "    olmailitem = 0x0 #size of the new email\n",
    "    newmail = ol.CreateItem(olmailitem)\n",
    "    newmail.Subject = 'Testing Mail'\n",
    "    newmail.To = ';'.join(tos[frame])\n",
    "    newmail.CC = ';'.join(ccs[frame])\n",
    "    newmail.Body = 'Please find property comparison of this app and provide sign off.'\n",
    "    newmail.Attachments.Add('C:\\\\Users\\\\zkutmyb\\\\' + 'Book ' + str(i + 1) + '.xlsx') #insert appropriate 'absolute' file path\n",
    "    # Save mail as draft\n",
    "    newmail.Display() \n",
    "    # Send mail\n",
    "    #newmail.Send()"
   ]
  }
 ],
 "metadata": {
  "kernelspec": {
   "display_name": "Python 3 (ipykernel)",
   "language": "python",
   "name": "python3"
  },
  "language_info": {
   "codemirror_mode": {
    "name": "ipython",
    "version": 3
   },
   "file_extension": ".py",
   "mimetype": "text/x-python",
   "name": "python",
   "nbconvert_exporter": "python",
   "pygments_lexer": "ipython3",
   "version": "3.9.17"
  }
 },
 "nbformat": 4,
 "nbformat_minor": 5
}
