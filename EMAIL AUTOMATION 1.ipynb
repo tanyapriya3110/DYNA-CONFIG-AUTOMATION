{
 "cells": [
  {
   "cell_type": "markdown",
   "id": "69b2a994",
   "metadata": {},
   "source": [
    "### LIBRARIES"
   ]
  },
  {
   "cell_type": "code",
   "execution_count": 1,
   "id": "4e583575",
   "metadata": {},
   "outputs": [],
   "source": [
    "from tkinter import *\n",
    "from tkinter import filedialog\n",
    "from openpyxl import load_workbook\n",
    "from openpyxl.utils import get_column_letter\n",
    "import pandas as pd\n",
    "import win32com.client"
   ]
  },
  {
   "cell_type": "markdown",
   "id": "16faba1b",
   "metadata": {},
   "source": [
    "### BROWSING FOR PARENT FILE"
   ]
  },
  {
   "cell_type": "code",
   "execution_count": 2,
   "id": "07237916",
   "metadata": {},
   "outputs": [
    {
     "name": "stdout",
     "output_type": "stream",
     "text": [
      "C:/Users/DELL/Downloads/testdataset.xlsx\n"
     ]
    }
   ],
   "source": [
    "def browse():\n",
    "    global filename\n",
    "    filename = filedialog.askopenfilename(initialdir = '/',\n",
    "                                          title = 'Select a file',\n",
    "                                          filetypes = (('Excel workbooks', '*.xlsx*'),\n",
    "                                                      ('CSV files', '*.csv*'))\n",
    "                                         )\n",
    "    print(filename)\n",
    "\n",
    "def close():\n",
    "    window.destroy()\n",
    "\n",
    "window = Tk()\n",
    "window.title('File explorer')\n",
    "window.geometry('300x200')\n",
    "Label(window, text = 'Browse for the parent file').pack()\n",
    "Button(window, text = 'Browse', command = browse).pack(pady = 10)\n",
    "Button(window, text = 'Exit', command = close).pack(pady = 10)\n",
    "window.mainloop()"
   ]
  },
  {
   "cell_type": "markdown",
   "id": "0d92896c",
   "metadata": {},
   "source": [
    "### CREATING BRANCHES"
   ]
  },
  {
   "cell_type": "markdown",
   "id": "10486d66",
   "metadata": {},
   "source": [
    "OBTAINING STRING COLUMNS"
   ]
  },
  {
   "cell_type": "code",
   "execution_count": 3,
   "id": "98c497db",
   "metadata": {},
   "outputs": [],
   "source": [
    "tbl = pd.read_excel(filename, skiprows = 2)\n",
    "str_cols = list(tbl.dtypes[tbl.dtypes == 'object'].index)"
   ]
  },
  {
   "cell_type": "markdown",
   "id": "cfd2dfb2",
   "metadata": {},
   "source": [
    "RESTORING DATE COLUMNS"
   ]
  },
  {
   "cell_type": "code",
   "execution_count": 4,
   "id": "536e6247",
   "metadata": {},
   "outputs": [],
   "source": [
    "date_cols = list(tbl.dtypes[tbl.dtypes == 'datetime64[ns]'].index)\n",
    "for col in date_cols:\n",
    "    tbl[col] = tbl[col].dt.strftime('%d-%m-%Y') "
   ]
  },
  {
   "cell_type": "markdown",
   "id": "b679ec48",
   "metadata": {},
   "source": [
    "OBTAINING UNIQUE VALUES IN COLUMNS"
   ]
  },
  {
   "cell_type": "code",
   "execution_count": 5,
   "id": "4dcc0616",
   "metadata": {},
   "outputs": [],
   "source": [
    "uniq = {}\n",
    "for col in tbl.columns:\n",
    "    uniq[col] = tbl[col].unique()"
   ]
  },
  {
   "cell_type": "markdown",
   "id": "e015ae2c",
   "metadata": {},
   "source": [
    "FETCHING CONTACTS"
   ]
  },
  {
   "cell_type": "code",
   "execution_count": 6,
   "id": "cf14cda2",
   "metadata": {},
   "outputs": [],
   "source": [
    "def get_contacts(filename):\n",
    "    contacts = []\n",
    "    with open(filename, 'r') as f:\n",
    "        for cont in f:\n",
    "            contacts.append(cont.strip())\n",
    "    return contacts"
   ]
  },
  {
   "cell_type": "markdown",
   "id": "7cff0622",
   "metadata": {},
   "source": [
    "ADDING CONTACTS"
   ]
  },
  {
   "cell_type": "code",
   "execution_count": 7,
   "id": "c08e552f",
   "metadata": {},
   "outputs": [],
   "source": [
    "def add_contact(filename, contact):\n",
    "    with open(filename, 'a') as f:\n",
    "        f.write(contact + '\\n')"
   ]
  },
  {
   "cell_type": "markdown",
   "id": "3857ed66",
   "metadata": {},
   "source": [
    "OBTAINING FILTERS"
   ]
  },
  {
   "cell_type": "code",
   "execution_count": 24,
   "id": "38e7e980",
   "metadata": {},
   "outputs": [],
   "source": [
    "frames = []\n",
    "filters = {} #{frame: [fr1, fr2, ...]}\n",
    "sel_values = {} #{fr1: [val1, val2, ...]}\n",
    "cols = {} #{frame: [col1, col2, ...]}\n",
    "opts = {} #{fr1: col} chosen columns\n",
    "tos = {} #{frame: [to1, to2, ...]}\n",
    "ccs = {} #{frame: [cc1, cc2, ...]}\n",
    "contacts = get_contacts('contacts.txt') + ['Other']\n",
    "#each fr corresponds to one column of the dataframe\n",
    "\n",
    "def ui_filter(frame):\n",
    "    filter_num = len(filters[frame]) + 1\n",
    "    fr = Frame(frame)\n",
    "    fr.pack()\n",
    "    Label(fr, text = 'Filter ' + str(filter_num)).pack()\n",
    "    v_opt = StringVar(fr, 'Select a column', str(fr) + '_col')\n",
    "    OptionMenu(fr, v_opt, *cols[frame]).pack(pady = 10)\n",
    "    Button(fr, text = 'Select this column', command = lambda: select_col(v_opt.get(), fr)).pack()\n",
    "    Button(frame, text = 'Add filter', name = 'add_filter_button', command = lambda: add_filter(frame)).pack(pady = 10)\n",
    "    filters[frame].append(fr)\n",
    "    \n",
    "def select_col(col, fr):\n",
    "    opts[fr] = fr.getvar(str(fr) + '_col')\n",
    "    Label(fr, text = 'Select the desired value(s)').pack(pady = 10)\n",
    "    for val in uniq[col]:\n",
    "        v = IntVar(fr, 0, col + val)\n",
    "        Checkbutton(fr, text = val, variable = v, onvalue = 1, offvalue = 0).pack()\n",
    "    Button(fr, text = 'Apply filter', command = lambda: apply_filter(col, fr)).pack(pady = 10)\n",
    "\n",
    "def apply_filter(col, fr):\n",
    "    sel_values[fr] = []\n",
    "    for val in uniq[col]:\n",
    "        if fr.getvar(col + val):\n",
    "            sel_values[fr].append(val)\n",
    "    if len(filters[fr.master]) > 1:\n",
    "        Button(fr, text = 'Remove filter', command = lambda: remove_filter(col, fr)).pack(pady = 10)\n",
    "    cols[fr.master].remove(col)\n",
    "    \n",
    "def remove_filter(col, fr):\n",
    "    filters[fr.master].remove(fr)\n",
    "    for i, f in enumerate(filters[fr.master]):\n",
    "        f.nametowidget('!label').configure(text = 'Filter ' + str(i + 1))\n",
    "    cols[fr.master].append(col)\n",
    "    fr.destroy()\n",
    "    \n",
    "def add_filter(frame):\n",
    "    frame.nametowidget('add_filter_button').destroy()\n",
    "    ui_filter(frame)\n",
    "\n",
    "def ui_to_cc(frame, to_cc):\n",
    "    if to_cc == 'to':\n",
    "        Label(frame, text = 'To:').pack(pady = 10)\n",
    "    else:\n",
    "        Label(frame, text = 'Cc:').pack(pady = 10)\n",
    "    frame_to_cc = Frame(frame)\n",
    "    frame_to_cc.pack()\n",
    "    v_to_cc = StringVar(frame, 'Select a contact')\n",
    "    OptionMenu(frame_to_cc, v_to_cc, *contacts).pack()\n",
    "    Button(frame_to_cc, text = 'Add recipient', command = lambda: add_to_cc(v_to_cc, frame_to_cc, to_cc), name = to_cc + '_button').pack(pady = 10)    \n",
    "    \n",
    "def ui():\n",
    "    book_num = len(frames) + 1\n",
    "    frame = Frame(window)\n",
    "    frame.pack()\n",
    "    Label(frame, text = 'Book ' + str(book_num)).pack(pady = 10)\n",
    "    filters[frame] = [] \n",
    "    cols[frame] = str_cols\n",
    "    ui_filter(frame)\n",
    "    # email list\n",
    "    tos[frame] = []\n",
    "    ccs[frame] = []\n",
    "    ui_to_cc(frame, 'to')\n",
    "    ui_to_cc(frame, 'cc')\n",
    "    if book_num > 1:\n",
    "        Button(frame, text = 'Remove book', command = lambda: remove(frame)).pack(pady = 10)\n",
    "    Button(window, text = 'Add book', name = 'add_button', command = add).pack(pady = 10)\n",
    "    frames.append(frame)\n",
    "\n",
    "def add_to_cc(v_to_cc, frame_to_cc, to_cc):\n",
    "    v_to_val = v_to_cc.get()\n",
    "    if v_to_val == 'Other':\n",
    "        frame_to_cc.nametowidget('!optionmenu').destroy()\n",
    "        frame_to_cc.nametowidget(to_cc + '_button').destroy()\n",
    "        v_to_cc.set('Enter the contact email')\n",
    "        Entry(frame_to_cc, textvariable = v_to_cc).pack()\n",
    "        Button(frame_to_cc, text = 'Add recipient', command = lambda: add_to_cc(v_to_cc, frame_to_cc, to_cc), name = to_cc + '_button').pack(pady = 10)\n",
    "    elif to_cc == 'to':\n",
    "        tos[frame_to_cc.master].append(v_to_val)\n",
    "        #add_contact('contacts.txt', v_to_val)\n",
    "    else:\n",
    "        ccs[frame_to_cc.master].append(v_to_val)\n",
    "        #add_contact('contacts.txt', v_to_val)\n",
    "\n",
    "def add():\n",
    "    window.nametowidget('add_button').destroy()\n",
    "    ui()\n",
    "    \n",
    "def remove(frame):\n",
    "    frames.remove(frame)\n",
    "    frame.destroy()\n",
    "    for i, fr in enumerate(frames):\n",
    "        fname = str(fr)\n",
    "        fr.nametowidget('!label').configure(text = 'Book ' + str(i + 1))        \n",
    "    \n",
    "root = Tk()\n",
    "root.title('Filters')\n",
    "#scroll bar addition\n",
    "mf = Frame(root)\n",
    "mf.pack(fill = BOTH, expand = 1)\n",
    "canv = Canvas(mf)\n",
    "canv.pack(side = LEFT, fill = BOTH, expand = 1)\n",
    "scbar = Scrollbar(mf, orient = VERTICAL, command = canv.yview)\n",
    "scbar.pack(side = RIGHT, fill = Y)\n",
    "canv.configure(yscrollcommand = scbar.set)\n",
    "canv.bind('<Configure>', lambda e: canv.configure(scrollregion = canv.bbox('all')))\n",
    "window = Frame(canv)\n",
    "canv.create_window((125,0), window = window, anchor = 'nw')\n",
    "ui()\n",
    "window.mainloop()"
   ]
  },
  {
   "cell_type": "markdown",
   "id": "80a31b57",
   "metadata": {},
   "source": [
    "APPLYING THE FILTERS"
   ]
  },
  {
   "cell_type": "code",
   "execution_count": 11,
   "id": "e72dbe89",
   "metadata": {},
   "outputs": [],
   "source": [
    "for i, book in enumerate(frames):\n",
    "    df_filter = tbl.copy()\n",
    "    wb = load_workbook(filename = filename)\n",
    "    ws = wb.active\n",
    "    ws.delete_rows(1, 1)\n",
    "    ws.delete_rows(3, len(df_filter))\n",
    "    for fr in filters[book]:\n",
    "        filter_col = opts[fr]\n",
    "        val_list = sel_values[fr]\n",
    "        df_filter = df_filter.loc[df_filter[filter_col].isin(val_list)]\n",
    "    rows = df_filter.values.tolist()\n",
    "    for row in rows:\n",
    "        ws.append(row)\n",
    "    wb.save('Book ' + str(i + 1) + '.xlsx')"
   ]
  },
  {
   "cell_type": "markdown",
   "id": "6f0c504f",
   "metadata": {},
   "source": [
    "SENDING MAILS"
   ]
  },
  {
   "cell_type": "code",
   "execution_count": null,
   "id": "0870108a",
   "metadata": {},
   "outputs": [],
   "source": [
    "for i, frame in enumerate(frames):\n",
    "    ol = win32com.client.Dispatch(\"outlook.application\") #outlook application should be installed prior\n",
    "    olmailitem = 0x0 #size of the new email\n",
    "    newmail = ol.CreateItem(olmailitem)\n",
    "    newmail.Subject = 'Testing Mail'\n",
    "    newmail.To = ';'.join(tos[frame])\n",
    "    newmail.CC = ';'.join(ccs[frame])\n",
    "    newmail.Body = 'Please find property comparison of this app and provide sign off.'\n",
    "    newmail.Attachments.Add('Book ' + str(i + 1) + '.xlsx')\n",
    "    #To display the mail before sending it\n",
    "    newmail.Display() \n",
    "    #newmail.Send()"
   ]
  }
 ],
 "metadata": {
  "kernelspec": {
   "display_name": "Python 3 (ipykernel)",
   "language": "python",
   "name": "python3"
  },
  "language_info": {
   "codemirror_mode": {
    "name": "ipython",
    "version": 3
   },
   "file_extension": ".py",
   "mimetype": "text/x-python",
   "name": "python",
   "nbconvert_exporter": "python",
   "pygments_lexer": "ipython3",
   "version": "3.9.17"
  }
 },
 "nbformat": 4,
 "nbformat_minor": 5
}
